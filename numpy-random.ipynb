{
 "cells": [
  {
   "cell_type": "markdown",
   "id": "b32549ff-1d4c-4e84-8907-779ecbdee598",
   "metadata": {},
   "source": [
    "# The Numpy Random Package\n",
    "\n",
    "[Official Documentation](https://numpy.org/doc/stable/reference/random/index.html)\n",
    "\n",
    "\n",
    "***"
   ]
  },
  {
   "cell_type": "code",
   "execution_count": 1,
   "id": "84e9b2f2-e2bb-47a4-b564-256242b3bd1f",
   "metadata": {},
   "outputs": [],
   "source": [
    "import numpy as np\n",
    "import matplotlib.pyplot as plt"
   ]
  },
  {
   "cell_type": "markdown",
   "id": "74495dd1-1a15-49c8-bb89-bf86337a977b",
   "metadata": {},
   "source": [
    " Seeding is important in random number generation [1]."
   ]
  },
  {
   "cell_type": "markdown",
   "id": "341a89be-a3e6-4db9-b26a-5757d6c01f4a",
   "metadata": {},
   "source": [
    "<br> \n",
    "\n",
    "## numpy.random.normal\n",
    "\n",
    "https://numpy.org/doc/stable/reference/random/generated/numpy.random.normal.html\n",
    "\n",
    "***"
   ]
  },
  {
   "cell_type": "code",
   "execution_count": 2,
   "id": "51fd90b9-2d94-4b56-9f5c-50db642b5008",
   "metadata": {},
   "outputs": [],
   "source": [
    "mu, sigma = 0, 0.1 # mean and standard deviation\n",
    "s = np.random.normal(mu, sigma, 1000)"
   ]
  },
  {
   "cell_type": "code",
   "execution_count": 3,
   "id": "ff84f760-c586-4dd3-83f7-5dd81fe9067b",
   "metadata": {},
   "outputs": [
    {
     "data": {
      "text/plain": [
       "0.004070099992855148"
      ]
     },
     "execution_count": 3,
     "metadata": {},
     "output_type": "execute_result"
    }
   ],
   "source": [
    "abs(mu - np.mean(s))\n"
   ]
  },
  {
   "cell_type": "code",
   "execution_count": 4,
   "id": "32f4d9b6-c8d3-4780-9d46-835a71a576db",
   "metadata": {},
   "outputs": [
    {
     "data": {
      "text/plain": [
       "0.003481984515954925"
      ]
     },
     "execution_count": 4,
     "metadata": {},
     "output_type": "execute_result"
    }
   ],
   "source": [
    "abs(sigma - np.std(s, ddof=1))"
   ]
  },
  {
   "cell_type": "code",
   "execution_count": 5,
   "id": "f617d21f-8ba2-4538-ad5b-aa061c4b74ad",
   "metadata": {},
   "outputs": [
    {
     "data": {
      "image/png": "[encoded data removed]",
      "text/plain": [
       "<Figure size 432x288 with 1 Axes>"
      ]
     },
     "metadata": {
      "needs_background": "light"
     },
     "output_type": "display_data"
    }
   ],
   "source": [
    "count, bins, ignored = plt.hist(s, 30, density=True)\n",
    "plt.plot(bins, 1/(sigma * np.sqrt(2 * np.pi)) * np.exp( - (bins - mu)**2 / (2 * sigma**2) ), linewidth=2, color='r')\n",
    "plt.show()"
   ]
  },
  {
   "cell_type": "code",
   "execution_count": null,
   "id": "be8b6951-fdf6-4bfe-afb5-33a66640eebe",
   "metadata": {},
   "outputs": [],
   "source": []
  },
  {
   "cell_type": "code",
   "execution_count": null,
   "id": "60875c49-0bef-4c1f-9152-097b2c5415e5",
   "metadata": {},
   "outputs": [],
   "source": []
  },
  {
   "cell_type": "code",
   "execution_count": null,
   "id": "88781997-f350-407a-a3b2-762eb965fadc",
   "metadata": {},
   "outputs": [],
   "source": []
  },
  {
   "cell_type": "code",
   "execution_count": null,
   "id": "d96b8504-40dd-4fbe-be64-62d4baaa9dd6",
   "metadata": {},
   "outputs": [],
   "source": []
  },
  {
   "cell_type": "code",
   "execution_count": null,
   "id": "32bdafe0-cc47-48ef-b229-10a7d88bcf3d",
   "metadata": {},
   "outputs": [],
   "source": []
  },
  {
   "cell_type": "code",
   "execution_count": null,
   "id": "2d5faebe-4c98-4f99-a1dc-ad7098d684d7",
   "metadata": {},
   "outputs": [],
   "source": []
  },
  {
   "cell_type": "code",
   "execution_count": null,
   "id": "2a1838b0-2c53-4212-980a-dbb4481fa004",
   "metadata": {},
   "outputs": [],
   "source": []
  },
  {
   "cell_type": "markdown",
   "id": "f1effa88-9e16-4926-b9d9-b9ca833774b6",
   "metadata": {},
   "source": [
    "## References\n",
    "\n",
    "[1] https://numpy.org/doc/stable/reference/random/generated/numpy.random.normal.html"
   ]
  },
  {
   "cell_type": "markdown",
   "id": "6c618737-2ff8-4bfc-9d7a-0e43353738e1",
   "metadata": {},
   "source": [
    "***\n",
    "## End\n"
   ]
  },
  {
   "cell_type": "markdown",
   "id": "7a26dff9-b77c-4893-b833-7f460f3e03c0",
   "metadata": {},
   "source": [
    "\n"
   ]
  }
 ],
 "metadata": {
  "kernelspec": {
   "display_name": "Python 3",
   "language": "python",
   "name": "python3"
  },
  "language_info": {
   "codemirror_mode": {
    "name": "ipython",
    "version": 3
   },
   "file_extension": ".py",
   "mimetype": "text/x-python",
   "name": "python",
   "nbconvert_exporter": "python",
   "pygments_lexer": "ipython3",
   "version": "3.8.8"
  }
 },
 "nbformat": 4,
 "nbformat_minor": 5
}
